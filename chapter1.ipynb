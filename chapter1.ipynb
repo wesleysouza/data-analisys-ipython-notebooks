{
 "cells": [
  {
   "cell_type": "markdown",
   "metadata": {},
   "source": [
    "# Chapter1\n",
    "\n",
    "### Classificação das tarefas de análise de dados \n",
    "\n",
    "As tarefas de um trabalho de análise de dados podem ser classificadas nos seguintes tipos:\n",
    "\n",
    "- **Interação com o mundo externo:** ler e escrever usando uma variedade de formatos de arquivos e reposítórios de dados.\n",
    "- **Preparação:** Limpar, manipular, combinar, normalizar, reformatar, tratar e transformar os dados para análise.\n",
    "- **Transformação:** Aplicar operações matemáticas e estatísticas em grupos de conjuntos de dados a fim de obter novos conjuntos de dados (por exemplo, agregando uma tabela grande por meio de variáveis de grupo).\n",
    "- **Modelagem e processamento:** Conectar seus dados a modelos estatísticos, algoritmos de aprendizado de máquina ou outras ferramentas de processamento.\n",
    "- **Apresentação**: Criar vizualizações gráficas interativas ou estáticas, ou sínteses textuais.\n",
    "\n"
   ]
  },
  {
   "cell_type": "code",
   "execution_count": 9,
   "metadata": {},
   "outputs": [],
   "source": [
    "import numpy as np\n",
    "np*.load*?"
   ]
  }
 ],
 "metadata": {
  "kernelspec": {
   "display_name": "Python 3",
   "language": "python",
   "name": "python3"
  },
  "language_info": {
   "codemirror_mode": {
    "name": "ipython",
    "version": 3
   },
   "file_extension": ".py",
   "mimetype": "text/x-python",
   "name": "python",
   "nbconvert_exporter": "python",
   "pygments_lexer": "ipython3",
   "version": "3.8.5"
  }
 },
 "nbformat": 4,
 "nbformat_minor": 4
}
